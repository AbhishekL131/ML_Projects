{
 "cells": [
  {
   "cell_type": "code",
   "execution_count": 24,
   "metadata": {},
   "outputs": [
    {
     "name": "stdout",
     "output_type": "stream",
     "text": [
      "Mean Squared Error (MSE): 161255633.41666666\n",
      "R-squared (R²) score: 0.9013342670789193\n",
      "Predicted integer rank for marks 300: 208\n"
     ]
    },
    {
     "name": "stderr",
     "output_type": "stream",
     "text": [
      "/Library/Frameworks/Python.framework/Versions/3.11/lib/python3.11/site-packages/sklearn/base.py:493: UserWarning: X does not have valid feature names, but RandomForestRegressor was fitted with feature names\n",
      "  warnings.warn(\n"
     ]
    }
   ],
   "source": [
    "import pandas as pd\n",
    "from sklearn.model_selection import train_test_split\n",
    "from sklearn.ensemble import RandomForestRegressor\n",
    "from sklearn.metrics import mean_squared_error, r2_score\n",
    "import numpy as np\n",
    "\n",
    "# Load the dataset\n",
    "\n",
    "data = pd.read_csv('mark_VS_rank.csv')\n",
    "\n",
    "# Splitting the data into features (X) and target (y)\n",
    "X = data[['MARKS']]\n",
    "y = data['RANK']\n",
    "\n",
    "# Splitting the dataset into training and testing sets\n",
    "X_train, X_test, y_train, y_test = train_test_split(X, y, test_size=0.2, random_state=42)\n",
    "\n",
    "# Initializing and training the Random Forest Regressor\n",
    "rf_reg = RandomForestRegressor(n_estimators=100, random_state=42)\n",
    "rf_reg.fit(X_train, y_train)\n",
    "\n",
    "# Making predictions on the test set\n",
    "y_pred_rf = rf_reg.predict(X_test)\n",
    "\n",
    "# Rounding predictions to the nearest integer\n",
    "y_pred_rf_rounded = np.round(y_pred_rf).astype(int)\n",
    "\n",
    "# Evaluating the Random Forest model\n",
    "mse_rf = mean_squared_error(y_test, y_pred_rf_rounded)\n",
    "r2_rf = r2_score(y_test, y_pred_rf_rounded)\n",
    "\n",
    "# Printing the evaluation results\n",
    "print(f'Mean Squared Error (MSE): {mse_rf}')\n",
    "print(f'R-squared (R²) score: {r2_rf}')\n",
    "\n",
    "# Function to predict and return integer values\n",
    "def predict_integer(model, input_value):\n",
    "    input_array = np.array(input_value).reshape(1, -1)\n",
    "    prediction = model.predict(input_array)\n",
    "    prediction_rounded = np.round(prediction).astype(int).tolist()\n",
    "    return prediction_rounded\n",
    "\n",
    "# Example usage\n",
    "input_value = 300\n",
    "predict_integer_value = predict_integer(rf_reg, input_value)\n",
    "print(f'Predicted integer rank for marks {input_value}: {predict_integer_value[0]}')\n"
   ]
  }
 ],
 "metadata": {
  "kernelspec": {
   "display_name": "Python 3",
   "language": "python",
   "name": "python3"
  },
  "language_info": {
   "codemirror_mode": {
    "name": "ipython",
    "version": 3
   },
   "file_extension": ".py",
   "mimetype": "text/x-python",
   "name": "python",
   "nbconvert_exporter": "python",
   "pygments_lexer": "ipython3",
   "version": "3.11.4"
  }
 },
 "nbformat": 4,
 "nbformat_minor": 2
}
